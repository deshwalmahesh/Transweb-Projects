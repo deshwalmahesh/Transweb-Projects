{
 "cells": [
  {
   "cell_type": "code",
   "execution_count": 1,
   "metadata": {},
   "outputs": [],
   "source": [
    "import numpy as np \n",
    "import pandas as pd\n",
    "from scipy.spatial.distance import hamming, jaccard, mahalanobis # inbuilt functions \n",
    "import matplotlib.pyplot as plt # for plotting"
   ]
  },
  {
   "cell_type": "code",
   "execution_count": 24,
   "metadata": {},
   "outputs": [],
   "source": [
    "SEED = 13\n",
    "np.random.seed(SEED) # set randomness to particular value instead of clock to get reproducible results"
   ]
  },
  {
   "cell_type": "markdown",
   "metadata": {},
   "source": [
    "Please find the related comments and docstrings to find the working and explainations of the code. \n",
    "Put all the files in a single directory and for my ease, I hve renamed them as excel_0 and excel_1"
   ]
  },
  {
   "cell_type": "markdown",
   "metadata": {},
   "source": [
    "# Q.1 \n",
    "Entropy based supervised discretization method"
   ]
  },
  {
   "cell_type": "code",
   "execution_count": 78,
   "metadata": {},
   "outputs": [],
   "source": [
    "df_raw = pd.read_excel('excel_0.xlsm') # import the data from excel file"
   ]
  },
  {
   "cell_type": "code",
   "execution_count": 79,
   "metadata": {},
   "outputs": [
    {
     "name": "stdout",
     "output_type": "stream",
     "text": [
      "<class 'pandas.core.frame.DataFrame'>\n",
      "RangeIndex: 2511 entries, 0 to 2510\n",
      "Data columns (total 15 columns):\n",
      "Precipitation    2511 non-null float64\n",
      "class            2511 non-null object\n",
      "Unnamed: 2       0 non-null float64\n",
      "min              7 non-null object\n",
      "Unnamed: 4       11 non-null object\n",
      "max              10 non-null object\n",
      "Unnamed: 6       4 non-null float64\n",
      "Unnamed: 7       0 non-null float64\n",
      "Unnamed: 8       0 non-null float64\n",
      "Cutoff           67 non-null float64\n",
      "Entropy          67 non-null float64\n",
      "a                67 non-null float64\n",
      "p                67 non-null float64\n",
      "D1               67 non-null float64\n",
      "D2               67 non-null float64\n",
      "dtypes: float64(11), object(4)\n",
      "memory usage: 294.4+ KB\n"
     ]
    }
   ],
   "source": [
    "df_raw.info() # see information about the dataset"
   ]
  },
  {
   "cell_type": "markdown",
   "metadata": {},
   "source": [
    "We have lots of missing values in the columns including Cutoff and Entropy "
   ]
  },
  {
   "cell_type": "code",
   "execution_count": 80,
   "metadata": {},
   "outputs": [
    {
     "data": {
      "text/plain": [
       "Precipitation       0\n",
       "class               0\n",
       "Unnamed: 2       2511\n",
       "min              2504\n",
       "Unnamed: 4       2500\n",
       "max              2501\n",
       "Unnamed: 6       2507\n",
       "Unnamed: 7       2511\n",
       "Unnamed: 8       2511\n",
       "Cutoff           2444\n",
       "Entropy          2444\n",
       "a                2444\n",
       "p                2444\n",
       "D1               2444\n",
       "D2               2444\n",
       "dtype: int64"
      ]
     },
     "execution_count": 80,
     "metadata": {},
     "output_type": "execute_result"
    }
   ],
   "source": [
    "df_raw.isna().sum() # get all the missing values in each column"
   ]
  },
  {
   "cell_type": "markdown",
   "metadata": {},
   "source": [
    "We have 2444 values missing for most of the columns"
   ]
  },
  {
   "cell_type": "code",
   "execution_count": 81,
   "metadata": {},
   "outputs": [
    {
     "data": {
      "text/html": [
       "<div>\n",
       "<style scoped>\n",
       "    .dataframe tbody tr th:only-of-type {\n",
       "        vertical-align: middle;\n",
       "    }\n",
       "\n",
       "    .dataframe tbody tr th {\n",
       "        vertical-align: top;\n",
       "    }\n",
       "\n",
       "    .dataframe thead th {\n",
       "        text-align: right;\n",
       "    }\n",
       "</style>\n",
       "<table border=\"1\" class=\"dataframe\">\n",
       "  <thead>\n",
       "    <tr style=\"text-align: right;\">\n",
       "      <th></th>\n",
       "      <th>Precipitation</th>\n",
       "      <th>class</th>\n",
       "      <th>Unnamed: 2</th>\n",
       "      <th>min</th>\n",
       "      <th>Unnamed: 4</th>\n",
       "      <th>max</th>\n",
       "      <th>Unnamed: 6</th>\n",
       "      <th>Unnamed: 7</th>\n",
       "      <th>Unnamed: 8</th>\n",
       "      <th>Cutoff</th>\n",
       "      <th>Entropy</th>\n",
       "      <th>a</th>\n",
       "      <th>p</th>\n",
       "      <th>D1</th>\n",
       "      <th>D2</th>\n",
       "    </tr>\n",
       "  </thead>\n",
       "  <tbody>\n",
       "    <tr>\n",
       "      <td>0</td>\n",
       "      <td>0.651808</td>\n",
       "      <td>a</td>\n",
       "      <td>NaN</td>\n",
       "      <td>0.171118</td>\n",
       "      <td>NaN</td>\n",
       "      <td>14.0226</td>\n",
       "      <td>NaN</td>\n",
       "      <td>NaN</td>\n",
       "      <td>NaN</td>\n",
       "      <td>0.271118</td>\n",
       "      <td>0.025804</td>\n",
       "      <td>0.001610</td>\n",
       "      <td>0.000000</td>\n",
       "      <td>0.025804</td>\n",
       "      <td>0.000000</td>\n",
       "    </tr>\n",
       "    <tr>\n",
       "      <td>1</td>\n",
       "      <td>0.515330</td>\n",
       "      <td>a</td>\n",
       "      <td>NaN</td>\n",
       "      <td>cutoff =</td>\n",
       "      <td>1</td>\n",
       "      <td>NaN</td>\n",
       "      <td>NaN</td>\n",
       "      <td>NaN</td>\n",
       "      <td>NaN</td>\n",
       "      <td>0.471118</td>\n",
       "      <td>0.025802</td>\n",
       "      <td>0.002013</td>\n",
       "      <td>0.000000</td>\n",
       "      <td>0.025802</td>\n",
       "      <td>0.000000</td>\n",
       "    </tr>\n",
       "    <tr>\n",
       "      <td>2</td>\n",
       "      <td>0.217331</td>\n",
       "      <td>a</td>\n",
       "      <td>NaN</td>\n",
       "      <td>NaN</td>\n",
       "      <td>NaN</td>\n",
       "      <td>NaN</td>\n",
       "      <td>NaN</td>\n",
       "      <td>NaN</td>\n",
       "      <td>NaN</td>\n",
       "      <td>0.671118</td>\n",
       "      <td>0.025787</td>\n",
       "      <td>0.005233</td>\n",
       "      <td>0.000000</td>\n",
       "      <td>0.025787</td>\n",
       "      <td>0.000000</td>\n",
       "    </tr>\n",
       "    <tr>\n",
       "      <td>3</td>\n",
       "      <td>0.676420</td>\n",
       "      <td>a</td>\n",
       "      <td>NaN</td>\n",
       "      <td>NaN</td>\n",
       "      <td>&gt;=1</td>\n",
       "      <td>&lt;1</td>\n",
       "      <td>NaN</td>\n",
       "      <td>NaN</td>\n",
       "      <td>NaN</td>\n",
       "      <td>0.871118</td>\n",
       "      <td>0.025784</td>\n",
       "      <td>0.020129</td>\n",
       "      <td>0.037037</td>\n",
       "      <td>0.024933</td>\n",
       "      <td>0.000851</td>\n",
       "    </tr>\n",
       "    <tr>\n",
       "      <td>4</td>\n",
       "      <td>0.171118</td>\n",
       "      <td>a</td>\n",
       "      <td>NaN</td>\n",
       "      <td>NaN</td>\n",
       "      <td>D1</td>\n",
       "      <td>D2</td>\n",
       "      <td>NaN</td>\n",
       "      <td>NaN</td>\n",
       "      <td>NaN</td>\n",
       "      <td>1.071118</td>\n",
       "      <td>0.025810</td>\n",
       "      <td>0.040660</td>\n",
       "      <td>0.037037</td>\n",
       "      <td>0.024838</td>\n",
       "      <td>0.000972</td>\n",
       "    </tr>\n",
       "  </tbody>\n",
       "</table>\n",
       "</div>"
      ],
      "text/plain": [
       "   Precipitation class  Unnamed: 2        min Unnamed: 4      max  Unnamed: 6  \\\n",
       "0       0.651808     a         NaN   0.171118        NaN  14.0226         NaN   \n",
       "1       0.515330     a         NaN  cutoff =           1      NaN         NaN   \n",
       "2       0.217331     a         NaN        NaN        NaN      NaN         NaN   \n",
       "3       0.676420     a         NaN        NaN        >=1       <1         NaN   \n",
       "4       0.171118     a         NaN        NaN         D1       D2         NaN   \n",
       "\n",
       "   Unnamed: 7  Unnamed: 8    Cutoff   Entropy         a         p        D1  \\\n",
       "0         NaN         NaN  0.271118  0.025804  0.001610  0.000000  0.025804   \n",
       "1         NaN         NaN  0.471118  0.025802  0.002013  0.000000  0.025802   \n",
       "2         NaN         NaN  0.671118  0.025787  0.005233  0.000000  0.025787   \n",
       "3         NaN         NaN  0.871118  0.025784  0.020129  0.037037  0.024933   \n",
       "4         NaN         NaN  1.071118  0.025810  0.040660  0.037037  0.024838   \n",
       "\n",
       "         D2  \n",
       "0  0.000000  \n",
       "1  0.000000  \n",
       "2  0.000000  \n",
       "3  0.000851  \n",
       "4  0.000972  "
      ]
     },
     "execution_count": 81,
     "metadata": {},
     "output_type": "execute_result"
    }
   ],
   "source": [
    "df_raw.head() # show the first 5 rows of the data"
   ]
  },
  {
   "cell_type": "markdown",
   "metadata": {},
   "source": [
    "Data here is very messy. We just have to deal with the Entropy and Cutoff Scores for the first task so we can easily drop all the other columns of the dataset"
   ]
  },
  {
   "cell_type": "code",
   "execution_count": 87,
   "metadata": {},
   "outputs": [],
   "source": [
    "df_raw.dropna(subset=['Cutoff','Entropy'],inplace=True) # drop rows where we do not have the values of Entropy and Cutoff"
   ]
  },
  {
   "cell_type": "code",
   "execution_count": 91,
   "metadata": {},
   "outputs": [
    {
     "data": {
      "text/plain": [
       "(67, 15)"
      ]
     },
     "execution_count": 91,
     "metadata": {},
     "output_type": "execute_result"
    }
   ],
   "source": [
    "df_raw.shape"
   ]
  },
  {
   "cell_type": "markdown",
   "metadata": {},
   "source": [
    "There are just 67 rows in the dataset now"
   ]
  },
  {
   "cell_type": "code",
   "execution_count": 88,
   "metadata": {},
   "outputs": [],
   "source": [
    "df = df_raw[['Cutoff','Entropy']] # get the columns from the data"
   ]
  },
  {
   "cell_type": "markdown",
   "metadata": {},
   "source": [
    "There is a lot of missing data in the rows so we have to drop these"
   ]
  },
  {
   "cell_type": "code",
   "execution_count": 89,
   "metadata": {},
   "outputs": [
    {
     "data": {
      "text/html": [
       "<div>\n",
       "<style scoped>\n",
       "    .dataframe tbody tr th:only-of-type {\n",
       "        vertical-align: middle;\n",
       "    }\n",
       "\n",
       "    .dataframe tbody tr th {\n",
       "        vertical-align: top;\n",
       "    }\n",
       "\n",
       "    .dataframe thead th {\n",
       "        text-align: right;\n",
       "    }\n",
       "</style>\n",
       "<table border=\"1\" class=\"dataframe\">\n",
       "  <thead>\n",
       "    <tr style=\"text-align: right;\">\n",
       "      <th></th>\n",
       "      <th>Cutoff</th>\n",
       "      <th>Entropy</th>\n",
       "    </tr>\n",
       "  </thead>\n",
       "  <tbody>\n",
       "    <tr>\n",
       "      <td>24</td>\n",
       "      <td>5.071118</td>\n",
       "      <td>0.024672</td>\n",
       "    </tr>\n",
       "    <tr>\n",
       "      <td>50</td>\n",
       "      <td>10.271118</td>\n",
       "      <td>0.025796</td>\n",
       "    </tr>\n",
       "    <tr>\n",
       "      <td>42</td>\n",
       "      <td>8.671118</td>\n",
       "      <td>0.025408</td>\n",
       "    </tr>\n",
       "    <tr>\n",
       "      <td>38</td>\n",
       "      <td>7.871118</td>\n",
       "      <td>0.025558</td>\n",
       "    </tr>\n",
       "    <tr>\n",
       "      <td>16</td>\n",
       "      <td>3.471118</td>\n",
       "      <td>0.024676</td>\n",
       "    </tr>\n",
       "  </tbody>\n",
       "</table>\n",
       "</div>"
      ],
      "text/plain": [
       "       Cutoff   Entropy\n",
       "24   5.071118  0.024672\n",
       "50  10.271118  0.025796\n",
       "42   8.671118  0.025408\n",
       "38   7.871118  0.025558\n",
       "16   3.471118  0.024676"
      ]
     },
     "execution_count": 89,
     "metadata": {},
     "output_type": "execute_result"
    }
   ],
   "source": [
    "df.sample(5) # 5 random samples"
   ]
  },
  {
   "cell_type": "code",
   "execution_count": 40,
   "metadata": {},
   "outputs": [],
   "source": [
    "min_ent_arr = df[df['Entropy']==df['Entropy'].min()].values  # get the row where Entropy in the dataset is minimum"
   ]
  },
  {
   "cell_type": "code",
   "execution_count": 42,
   "metadata": {},
   "outputs": [
    {
     "data": {
      "text/html": [
       "<div>\n",
       "<style scoped>\n",
       "    .dataframe tbody tr th:only-of-type {\n",
       "        vertical-align: middle;\n",
       "    }\n",
       "\n",
       "    .dataframe tbody tr th {\n",
       "        vertical-align: top;\n",
       "    }\n",
       "\n",
       "    .dataframe thead th {\n",
       "        text-align: right;\n",
       "    }\n",
       "</style>\n",
       "<table border=\"1\" class=\"dataframe\">\n",
       "  <thead>\n",
       "    <tr style=\"text-align: right;\">\n",
       "      <th></th>\n",
       "      <th>Cutoff</th>\n",
       "      <th>Entropy</th>\n",
       "    </tr>\n",
       "  </thead>\n",
       "  <tbody>\n",
       "    <tr>\n",
       "      <td>32</td>\n",
       "      <td>6.671118</td>\n",
       "      <td>0.023266</td>\n",
       "    </tr>\n",
       "  </tbody>\n",
       "</table>\n",
       "</div>"
      ],
      "text/plain": [
       "      Cutoff   Entropy\n",
       "32  6.671118  0.023266"
      ]
     },
     "execution_count": 42,
     "metadata": {},
     "output_type": "execute_result"
    }
   ],
   "source": [
    "df[df['Entropy']==df['Entropy'].min()]"
   ]
  },
  {
   "cell_type": "markdown",
   "metadata": {},
   "source": [
    "Row number 32 has the minimum Entropy with Cutoff value of 6.67 and Entropy of 0.023"
   ]
  },
  {
   "cell_type": "code",
   "execution_count": 65,
   "metadata": {},
   "outputs": [
    {
     "data": {
      "image/png": "[encoded data removed]",
      "text/plain": [
       "<Figure size 432x288 with 1 Axes>"
      ]
     },
     "metadata": {
      "needs_background": "light"
     },
     "output_type": "display_data"
    }
   ],
   "source": [
    "x,y = min_ent_arr[0][0],min_ent_arr[0,1]\n",
    "\n",
    "plt.title('Cutoff vs Entropy Scores') # set title of figure\n",
    "plt.plot(df['Cutoff'],df['Entropy'], marker='.',color='m') # plot line plot\n",
    "plt.xlabel('Cutoff') \n",
    "plt.ylabel('Entropy')\n",
    "plt.annotate(f'  Min Entropy', xy=(x,y)) # show where is the min entropy in figure\n",
    "plt.grid()"
   ]
  },
  {
   "cell_type": "markdown",
   "metadata": {},
   "source": [
    "We have almost fixed Entropy scores after the cutoff value around 9. Let us see if that score of 9 affects the other values too. "
   ]
  },
  {
   "cell_type": "code",
   "execution_count": 131,
   "metadata": {},
   "outputs": [
    {
     "data": {
      "text/plain": [
       "Text(0, 0.5, 'A & P')"
      ]
     },
     "execution_count": 131,
     "metadata": {},
     "output_type": "execute_result"
    },
    {
     "data": {
      "image/png": "[encoded data removed]",
      "text/plain": [
       "<Figure size 720x288 with 2 Axes>"
      ]
     },
     "metadata": {
      "needs_background": "light"
     },
     "output_type": "display_data"
    }
   ],
   "source": [
    "f,ax = plt.subplots(1,2, figsize=(10,4))\n",
    "ax[0].plot(df_raw['Cutoff'],df_raw['D1'],color='g',ls='--', label='D1')\n",
    "ax[0].plot(df_raw['Cutoff'],df_raw['D2'],color='blue',label='D2')\n",
    "ax[0].grid()\n",
    "ax[0].legend()\n",
    "ax[0].set_xlabel('Cutoff')\n",
    "ax[0].set_ylabel('D1 & D2')\n",
    "\n",
    "ax[1].plot(df_raw['Cutoff'],df_raw['a'],color='teal', label='D1')\n",
    "ax[1].plot(df_raw['Cutoff'],df_raw['p'],color='tomato',label='D2', ls='dotted')\n",
    "ax[1].grid()\n",
    "ax[1].legend()\n",
    "ax[1].set_xlabel('Cutoff')\n",
    "ax[1].set_ylabel('A & P')"
   ]
  },
  {
   "cell_type": "markdown",
   "metadata": {},
   "source": [
    "Our hypothesis was correct that at cutoff 9, every other attribute is hitting plateau"
   ]
  },
  {
   "cell_type": "markdown",
   "metadata": {},
   "source": [
    "# Q.3"
   ]
  },
  {
   "cell_type": "markdown",
   "metadata": {},
   "source": [
    "Mahalanobis distance is the distance between any data point and the Distribution. A datapoint is defined by the position vector in N-Dimensional Space. It overcomes the problems associated with other distance metrices. \n",
    "\n",
    "Mahalanobis distance is defined as\n",
    "\n",
    "$$ 𝐷𝑀(x, 𝜇) = √︁(x − 𝜇)^𝑇 Σ^−1(x − 𝜇) $$\n"
   ]
  },
  {
   "cell_type": "code",
   "execution_count": 144,
   "metadata": {},
   "outputs": [],
   "source": [
    "def mahalanobis(x):\n",
    "    '''\n",
    "    inp:\n",
    "        X = vector X\n",
    "        data: distribution in form numpy array\n",
    "    out:\n",
    "        distance of data from points\n",
    "    '''\n",
    "    new_x = x - np.mean(x) # subtrace data points from mean of each column\n",
    "    cov = np.cov(x.values.T) # calculate covariane metric\n",
    "    inv_covmat = np.linalg.inv(cov) # inverse covariance metric\n",
    "    return np.dot(np.dot(new_x, inv_covmat), new_x.T).diagonal()"
   ]
  },
  {
   "cell_type": "code",
   "execution_count": 155,
   "metadata": {},
   "outputs": [],
   "source": [
    "X = pd.DataFrame(np.random.randint(0,10,size=(6,3))) #generate random data"
   ]
  },
  {
   "cell_type": "code",
   "execution_count": 156,
   "metadata": {},
   "outputs": [],
   "source": [
    "distances = mahalanobis(X) # distance of all of the data points from the Distribution"
   ]
  },
  {
   "cell_type": "code",
   "execution_count": 164,
   "metadata": {},
   "outputs": [
    {
     "data": {
      "image/png": "[encoded data removed]",
      "text/plain": [
       "<Figure size 432x288 with 1 Axes>"
      ]
     },
     "metadata": {
      "needs_background": "light"
     },
     "output_type": "display_data"
    }
   ],
   "source": [
    "plt.plot(range(len(distances)),distances,marker='o',ls='dotted')\n",
    "plt.xlabel('Data Points Index')\n",
    "plt.ylabel('Mahalanobis Distance')\n",
    "plt.grid()"
   ]
  },
  {
   "cell_type": "markdown",
   "metadata": {},
   "source": [
    "# Q4\n",
    "Hamming distance is the number of instances where two bits are different in a binary string but Jaccard Similarity is the proportion of the data where points share similarity"
   ]
  },
  {
   "cell_type": "code",
   "execution_count": 167,
   "metadata": {},
   "outputs": [],
   "source": [
    "X = '010101001'\n",
    "Y = '010010110'"
   ]
  },
  {
   "cell_type": "code",
   "execution_count": 168,
   "metadata": {},
   "outputs": [],
   "source": [
    "X_bin = [int(i) for i in X]\n",
    "Y_bin = [int(i) for i in Y] # converting to list of binary numbers"
   ]
  },
  {
   "cell_type": "code",
   "execution_count": 169,
   "metadata": {},
   "outputs": [
    {
     "data": {
      "text/plain": [
       "0.6666666666666666"
      ]
     },
     "execution_count": 169,
     "metadata": {},
     "output_type": "execute_result"
    }
   ],
   "source": [
    "hamming(X_bin,Y_bin) # sklearn's library"
   ]
  },
  {
   "cell_type": "code",
   "execution_count": 171,
   "metadata": {},
   "outputs": [],
   "source": [
    "def hamm(X,Y):\n",
    "    assert len(X)==len(Y) , \"same number of elements must be there in both\" # condition not met, throw exception\n",
    "    count = 0\n",
    "    for i in range(len(X)):\n",
    "        if X[i]!=Y[i]:\n",
    "            count+=1\n",
    "    return count/len(X)"
   ]
  },
  {
   "cell_type": "code",
   "execution_count": 172,
   "metadata": {},
   "outputs": [
    {
     "data": {
      "text/plain": [
       "0.6666666666666666"
      ]
     },
     "execution_count": 172,
     "metadata": {},
     "output_type": "execute_result"
    }
   ],
   "source": [
    "hamm(X,Y)"
   ]
  },
  {
   "cell_type": "code",
   "execution_count": 173,
   "metadata": {},
   "outputs": [],
   "source": [
    "from sklearn.metrics import jaccard_similarity_score"
   ]
  },
  {
   "cell_type": "code",
   "execution_count": 175,
   "metadata": {},
   "outputs": [
    {
     "data": {
      "text/plain": [
       "0.3333333333333333"
      ]
     },
     "execution_count": 175,
     "metadata": {},
     "output_type": "execute_result"
    }
   ],
   "source": [
    "jaccard_similarity_score(X_bin,Y_bin)"
   ]
  },
  {
   "cell_type": "markdown",
   "metadata": {},
   "source": [
    "As we can see that Jaccard Similarity + Hamming Distance = 1, always"
   ]
  }
 ],
 "metadata": {
  "kernelspec": {
   "display_name": "Python 3",
   "language": "python",
   "name": "python3"
  },
  "language_info": {
   "codemirror_mode": {
    "name": "ipython",
    "version": 3
   },
   "file_extension": ".py",
   "mimetype": "text/x-python",
   "name": "python",
   "nbconvert_exporter": "python",
   "pygments_lexer": "ipython3",
   "version": "3.7.4"
  }
 },
 "nbformat": 4,
 "nbformat_minor": 4
}
