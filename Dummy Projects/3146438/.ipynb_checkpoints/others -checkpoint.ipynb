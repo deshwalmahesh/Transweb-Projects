{
 "cells": [
  {
   "cell_type": "markdown",
   "metadata": {},
   "source": [
    "# Solution\n",
    "1. Ensure that all the files are saved in one folder to ensure that the note book runs effectively"
   ]
  },
  {
   "cell_type": "markdown",
   "metadata": {},
   "source": [
    "### Importing the relevent libraries and modules"
   ]
  },
  {
   "cell_type": "code",
   "execution_count": 1,
   "metadata": {},
   "outputs": [],
   "source": [
    "import numpy as np\n",
    "from scipy.spatial.distance import hamming,mahalanobis,pdist\n",
    "from sklearn.metrics import jaccard_similarity_score\n",
    "import matplotlib.pyplot as plt\n",
    "import seaborn as sns\n",
    "import pandas as pd\n",
    "from scipy.linalg import inv"
   ]
  },
  {
   "cell_type": "markdown",
   "metadata": {},
   "source": [
    "# No.1"
   ]
  },
  {
   "cell_type": "markdown",
   "metadata": {},
   "source": [
    "# GRAPH OF CUTOFFS AGAIST ENTROPY\n",
    "Here, I started off by importing the data Irequired to make the plots using the read_csv function in pandas.\n",
    "By applying the head function on the data frame, I am able to view the top 5 rows of the data."
   ]
  },
  {
   "cell_type": "code",
   "execution_count": 2,
   "metadata": {},
   "outputs": [
    {
     "data": {
      "text/html": [
       "<div>\n",
       "<style scoped>\n",
       "    .dataframe tbody tr th:only-of-type {\n",
       "        vertical-align: middle;\n",
       "    }\n",
       "\n",
       "    .dataframe tbody tr th {\n",
       "        vertical-align: top;\n",
       "    }\n",
       "\n",
       "    .dataframe thead th {\n",
       "        text-align: right;\n",
       "    }\n",
       "</style>\n",
       "<table border=\"1\" class=\"dataframe\">\n",
       "  <thead>\n",
       "    <tr style=\"text-align: right;\">\n",
       "      <th></th>\n",
       "      <th>Cutoff</th>\n",
       "      <th>Entropy</th>\n",
       "      <th>a</th>\n",
       "      <th>p</th>\n",
       "      <th>D1</th>\n",
       "      <th>D2</th>\n",
       "    </tr>\n",
       "  </thead>\n",
       "  <tbody>\n",
       "    <tr>\n",
       "      <th>0</th>\n",
       "      <td>0.271118</td>\n",
       "      <td>0.025804</td>\n",
       "      <td>0.001610</td>\n",
       "      <td>0.000000</td>\n",
       "      <td>0.025804</td>\n",
       "      <td>0.000000</td>\n",
       "    </tr>\n",
       "    <tr>\n",
       "      <th>1</th>\n",
       "      <td>0.471118</td>\n",
       "      <td>0.025802</td>\n",
       "      <td>0.002013</td>\n",
       "      <td>0.000000</td>\n",
       "      <td>0.025802</td>\n",
       "      <td>0.000000</td>\n",
       "    </tr>\n",
       "    <tr>\n",
       "      <th>2</th>\n",
       "      <td>0.671118</td>\n",
       "      <td>0.025787</td>\n",
       "      <td>0.005233</td>\n",
       "      <td>0.000000</td>\n",
       "      <td>0.025787</td>\n",
       "      <td>0.000000</td>\n",
       "    </tr>\n",
       "    <tr>\n",
       "      <th>3</th>\n",
       "      <td>0.871118</td>\n",
       "      <td>0.025784</td>\n",
       "      <td>0.020129</td>\n",
       "      <td>0.037037</td>\n",
       "      <td>0.024933</td>\n",
       "      <td>0.000851</td>\n",
       "    </tr>\n",
       "    <tr>\n",
       "      <th>4</th>\n",
       "      <td>1.071118</td>\n",
       "      <td>0.025810</td>\n",
       "      <td>0.040660</td>\n",
       "      <td>0.037037</td>\n",
       "      <td>0.024838</td>\n",
       "      <td>0.000972</td>\n",
       "    </tr>\n",
       "  </tbody>\n",
       "</table>\n",
       "</div>"
      ],
      "text/plain": [
       "     Cutoff   Entropy         a         p        D1        D2\n",
       "0  0.271118  0.025804  0.001610  0.000000  0.025804  0.000000\n",
       "1  0.471118  0.025802  0.002013  0.000000  0.025802  0.000000\n",
       "2  0.671118  0.025787  0.005233  0.000000  0.025787  0.000000\n",
       "3  0.871118  0.025784  0.020129  0.037037  0.024933  0.000851\n",
       "4  1.071118  0.025810  0.040660  0.037037  0.024838  0.000972"
      ]
     },
     "execution_count": 2,
     "metadata": {},
     "output_type": "execute_result"
    }
   ],
   "source": [
    "data=pd.read_excel('Entropy_cutoff_disc.xlsx')\n",
    "data.head()"
   ]
  },
  {
   "cell_type": "code",
   "execution_count": 3,
   "metadata": {},
   "outputs": [
    {
     "data": {
      "text/plain": [
       "0.023265842836131603"
      ]
     },
     "execution_count": 3,
     "metadata": {},
     "output_type": "execute_result"
    }
   ],
   "source": [
    "#this gives the value of the minimum Entropy\n",
    "v=data['Entropy'].min()\n",
    "v"
   ]
  },
  {
   "cell_type": "code",
   "execution_count": 4,
   "metadata": {},
   "outputs": [
    {
     "data": {
      "text/plain": [
       "array([[6.67111753e+00, 2.32658428e-02, 9.60144928e-01, 6.29629630e-01,\n",
       "        5.77921307e-03, 1.74866298e-02]])"
      ]
     },
     "execution_count": 4,
     "metadata": {},
     "output_type": "execute_result"
    }
   ],
   "source": [
    "#pull out the row containing the minimum value of Entropy (the first value is the cutoff, the second value is the Entropy) into a numpy array\n",
    "g=data[data['Entropy']==v].values\n",
    "g"
   ]
  },
  {
   "cell_type": "code",
   "execution_count": 5,
   "metadata": {},
   "outputs": [
    {
     "data": {
      "text/plain": [
       "6.671117530000004"
      ]
     },
     "execution_count": 5,
     "metadata": {},
     "output_type": "execute_result"
    }
   ],
   "source": [
    "#this gives the cutoff associated with the minimum Entropy\n",
    "g[0,0]"
   ]
  },
  {
   "cell_type": "code",
   "execution_count": 6,
   "metadata": {},
   "outputs": [
    {
     "data": {
      "image/png": "[encoded data removed]",
      "text/plain": [
       "<matplotlib.figure.Figure at 0x7ba83516a0>"
      ]
     },
     "metadata": {},
     "output_type": "display_data"
    }
   ],
   "source": [
    "%matplotlib inline\n",
    "sns.set()\n",
    "_=plt.plot(data['Cutoff'],data['Entropy'])\n",
    "_=plt.xlabel('Cutoff')\n",
    "_=plt.ylabel('Entropy')\n",
    "_=plt.title('CUTOFF AGAINST ENTROPY')\n",
    "_=plt.annotate('  min entropy', xy=(g[0,0], v)) #this annotates the point where the minimum Entropy is located\n",
    "plt.show()"
   ]
  },
  {
   "cell_type": "code",
   "execution_count": 7,
   "metadata": {},
   "outputs": [
    {
     "data": {
      "image/png": "[encoded data removed]",
      "text/plain": [
       "<matplotlib.figure.Figure at 0x7ba84728d0>"
      ]
     },
     "metadata": {},
     "output_type": "display_data"
    }
   ],
   "source": [
    "_=plt.plot(data['Cutoff'],data['D1'],label='D1',color='r')\n",
    "_=plt.plot(data['Cutoff'],data['D2'],label='D2',color='b')\n",
    "_=plt.xlabel('Cutoff')\n",
    "_=plt.ylabel('Entropy')\n",
    "_=plt.legend()\n",
    "_=plt.title('MARGINAL ENTROPY')\n",
    "plt.show()"
   ]
  },
  {
   "cell_type": "code",
   "execution_count": 8,
   "metadata": {},
   "outputs": [
    {
     "data": {
      "image/png": "[encoded data removed]",
      "text/plain": [
       "<matplotlib.figure.Figure at 0x7ba84d21d0>"
      ]
     },
     "metadata": {},
     "output_type": "display_data"
    }
   ],
   "source": [
    "_=plt.plot(data['Cutoff'],data['a'],label='a',color='r')\n",
    "_=plt.plot(data['Cutoff'],data['p'],label='p',color='b')\n",
    "_=plt.xlabel('Cutoff')\n",
    "_=plt.ylabel('a, p')\n",
    "_=plt.legend()\n",
    "_=plt.title('CUTOFF AGAINST A AND P')\n",
    "plt.show()"
   ]
  },
  {
   "cell_type": "markdown",
   "metadata": {},
   "source": [
    "# No.2"
   ]
  },
  {
   "cell_type": "code",
   "execution_count": 9,
   "metadata": {},
   "outputs": [
    {
     "data": {
      "text/html": [
       "<div>\n",
       "<style scoped>\n",
       "    .dataframe tbody tr th:only-of-type {\n",
       "        vertical-align: middle;\n",
       "    }\n",
       "\n",
       "    .dataframe tbody tr th {\n",
       "        vertical-align: top;\n",
       "    }\n",
       "\n",
       "    .dataframe thead th {\n",
       "        text-align: right;\n",
       "    }\n",
       "</style>\n",
       "<table border=\"1\" class=\"dataframe\">\n",
       "  <thead>\n",
       "    <tr style=\"text-align: right;\">\n",
       "      <th></th>\n",
       "      <th>Cutoff</th>\n",
       "      <th>Entropy</th>\n",
       "      <th>SW-Entropy</th>\n",
       "    </tr>\n",
       "  </thead>\n",
       "  <tbody>\n",
       "    <tr>\n",
       "      <th>0</th>\n",
       "      <td>5</td>\n",
       "      <td>0.451097</td>\n",
       "      <td>0.451097</td>\n",
       "    </tr>\n",
       "    <tr>\n",
       "      <th>1</th>\n",
       "      <td>6</td>\n",
       "      <td>0.448636</td>\n",
       "      <td>0.448636</td>\n",
       "    </tr>\n",
       "    <tr>\n",
       "      <th>2</th>\n",
       "      <td>7</td>\n",
       "      <td>0.438991</td>\n",
       "      <td>0.434317</td>\n",
       "    </tr>\n",
       "    <tr>\n",
       "      <th>3</th>\n",
       "      <td>8</td>\n",
       "      <td>0.434118</td>\n",
       "      <td>0.424955</td>\n",
       "    </tr>\n",
       "    <tr>\n",
       "      <th>4</th>\n",
       "      <td>9</td>\n",
       "      <td>0.406739</td>\n",
       "      <td>0.380611</td>\n",
       "    </tr>\n",
       "  </tbody>\n",
       "</table>\n",
       "</div>"
      ],
      "text/plain": [
       "   Cutoff   Entropy  SW-Entropy\n",
       "0       5  0.451097    0.451097\n",
       "1       6  0.448636    0.448636\n",
       "2       7  0.438991    0.434317\n",
       "3       8  0.434118    0.424955\n",
       "4       9  0.406739    0.380611"
      ]
     },
     "execution_count": 9,
     "metadata": {},
     "output_type": "execute_result"
    }
   ],
   "source": [
    "data2=pd.read_excel('Entropy_cutoff_Spar.xlsx')\n",
    "data2.head()"
   ]
  },
  {
   "cell_type": "code",
   "execution_count": 10,
   "metadata": {},
   "outputs": [
    {
     "data": {
      "image/png": "[encoded data removed]",
      "text/plain": [
       "<matplotlib.figure.Figure at 0x7ba85de9b0>"
      ]
     },
     "metadata": {},
     "output_type": "display_data"
    }
   ],
   "source": [
    "_=plt.plot(data2['Cutoff'],data2['Entropy'],label='Entropy',color='r')\n",
    "_=plt.plot(data2['Cutoff'],data2['SW-Entropy'],label='SW-Entropy',color='b')\n",
    "_=plt.xlabel('Cutoff')\n",
    "_=plt.ylabel('Entropy, SW-ENTROPY')\n",
    "_=plt.legend()\n",
    "_=plt.title('CUTOFF AGAINST ENTROPY AND SW-ENTROPY')\n",
    "plt.show()"
   ]
  },
  {
   "cell_type": "markdown",
   "metadata": {},
   "source": [
    "# No.3"
   ]
  },
  {
   "cell_type": "markdown",
   "metadata": {},
   "source": [
    "# MAHALANOBIS DISTANCE\n",
    "The Mahalanobis distance is a measure of the distance between two points x and 𝜇 where the dispersion (i.e.\n",
    "the covariance structure) of the samples is taken into account.\n",
    "\n",
    "$$ 𝐷𝑀(x, 𝜇) = √︁\n",
    "(x − 𝜇)\n",
    "^𝑇 Σ^−1(x − 𝜇) $$"
   ]
  },
  {
   "cell_type": "markdown",
   "metadata": {},
   "source": [
    "This can be implimented using the function below by parsing the array/matrix with an optional covariace matrix as sgown below"
   ]
  },
  {
   "cell_type": "markdown",
   "metadata": {},
   "source": [
    "## Example\n",
    "The example below illustrates how the function works. I created an invertible numpy array and parsed it in the function.\n",
    "\n",
    "#### NOTE:\n",
    "    The array MUST be invertible for this function to work "
   ]
  },
  {
   "cell_type": "code",
   "execution_count": 12,
   "metadata": {},
   "outputs": [
    {
     "data": {
      "text/plain": [
       "array([[2, 7],\n",
       "       [1, 3],\n",
       "       [1, 0]])"
      ]
     },
     "execution_count": 12,
     "metadata": {},
     "output_type": "execute_result"
    }
   ],
   "source": [
    "#create a numpy array that will be passed to the function to produce the mahalanobis vector\n",
    "X=np.array(([2,7],[1,3],[1,0]))\n",
    "X"
   ]
  },
  {
   "cell_type": "code",
   "execution_count": 13,
   "metadata": {},
   "outputs": [
    {
     "data": {
      "text/plain": [
       "array([19.11111111, 33.77777778, 16.44444444])"
      ]
     },
     "execution_count": 13,
     "metadata": {},
     "output_type": "execute_result"
    }
   ],
   "source": [
    "def mahalanobis(x=None, cov=None):\n",
    "    \"\"\"Compute the Mahalanobis Distance between each row of x and the data  \n",
    "    x    : vector or matrix of data with, say,r rows and c columns.\n",
    "    cov  : covariance matrix (r x c) of the distribution. If None, will be computed from data.\n",
    "    \"\"\"\n",
    "    x_minus_mu = x - np.mean(x)\n",
    "    if not cov:\n",
    "        cov = np.cov(x.T)\n",
    "    inv_covmat = inv(cov)\n",
    "    left_term = np.dot(x_minus_mu, inv_covmat)\n",
    "    mahal = np.dot(left_term, x_minus_mu.T)\n",
    "    return mahal.diagonal()\n",
    "\n",
    "d=mahalanobis(X)\n",
    "d"
   ]
  },
  {
   "cell_type": "markdown",
   "metadata": {},
   "source": [
    "# No.4"
   ]
  },
  {
   "cell_type": "markdown",
   "metadata": {},
   "source": [
    "# HAMMING DISTANCE\n",
    "Hamming distance is simply the the proportion of disagreeing components in x and y. Thish can easily be calculated using the Hamming function found in the python library called Scipy as shown below"
   ]
  },
  {
   "cell_type": "code",
   "execution_count": 14,
   "metadata": {},
   "outputs": [
    {
     "name": "stdout",
     "output_type": "stream",
     "text": [
      "0.6666666666666666\n"
     ]
    }
   ],
   "source": [
    "X=[0,1,0,1,0,1,0,0,1]\n",
    "Y=[0,1,0,0,1,0,1,1,0]\n",
    "#converting the components X and Y into numpy arrays sine the hamming function takes in arrays\n",
    "x=np.array(X)\n",
    "y=np.array(Y)\n",
    "ham_dist=hamming(x,y)\n",
    "print(ham_dist)"
   ]
  },
  {
   "cell_type": "markdown",
   "metadata": {},
   "source": [
    "# JACCARD SIMILARITY\n",
    "Jaccard similarity is the portion of agreeing components in x and y. It is the compliment of the hamming distance.\n",
    "    i.e. $$ jaccard similarity + hamming distance = 1$$"
   ]
  },
  {
   "cell_type": "code",
   "execution_count": 15,
   "metadata": {},
   "outputs": [
    {
     "name": "stdout",
     "output_type": "stream",
     "text": [
      "0.3333333333333333\n"
     ]
    }
   ],
   "source": [
    "jarccad_sim=jaccard_similarity_score(x,y)\n",
    "print(jarccad_sim)"
   ]
  }
 ],
 "metadata": {
  "kernelspec": {
   "display_name": "Python 3",
   "language": "python",
   "name": "python3"
  },
  "language_info": {
   "codemirror_mode": {
    "name": "ipython",
    "version": 3
   },
   "file_extension": ".py",
   "mimetype": "text/x-python",
   "name": "python",
   "nbconvert_exporter": "python",
   "pygments_lexer": "ipython3",
   "version": "3.6.4"
  }
 },
 "nbformat": 4,
 "nbformat_minor": 2
}
