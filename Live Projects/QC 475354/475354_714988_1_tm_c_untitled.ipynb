{
 "cells": [
  {
   "cell_type": "code",
   "execution_count": 1,
   "metadata": {},
   "outputs": [],
   "source": [
    "import matplotlib.pyplot as plt # visualization\n",
    "import numpy as np # matrix operations\n",
    "import pandas as pd # library built on top of numpy for better display and statistical operations\n",
    "from scipy.io import loadmat # load matlab file in python"
   ]
  },
  {
   "cell_type": "markdown",
   "metadata": {},
   "source": [
    "Change  '5369118_1_data.mat' as 'data.mat' and '5369118_2_label.mat' as 'label.mat'"
   ]
  },
  {
   "cell_type": "code",
   "execution_count": 2,
   "metadata": {},
   "outputs": [],
   "source": [
    "data = loadmat('data.mat') # load data\n",
    "lab = loadmat('label.mat')"
   ]
  },
  {
   "cell_type": "code",
   "execution_count": 3,
   "metadata": {},
   "outputs": [
    {
     "data": {
      "text/plain": [
       "{'__header__': b'MATLAB 5.0 MAT-file, Platform: MACI64, Created on: Fri Feb 15 00:46:20 2019',\n",
       " '__version__': '1.0',\n",
       " '__globals__': [],\n",
       " 'data': array([[0., 0., 0., ..., 0., 0., 0.],\n",
       "        [0., 0., 0., ..., 0., 0., 0.],\n",
       "        [0., 0., 0., ..., 0., 0., 0.],\n",
       "        ...,\n",
       "        [0., 0., 0., ..., 0., 0., 0.],\n",
       "        [0., 0., 0., ..., 0., 0., 0.],\n",
       "        [0., 0., 0., ..., 0., 0., 0.]])}"
      ]
     },
     "execution_count": 3,
     "metadata": {},
     "output_type": "execute_result"
    }
   ],
   "source": [
    "data"
   ]
  },
  {
   "cell_type": "code",
   "execution_count": 4,
   "metadata": {},
   "outputs": [
    {
     "data": {
      "text/plain": [
       "{'__header__': b'MATLAB 5.0 MAT-file, Platform: MACI64, Created on: Fri Feb 15 00:46:33 2019',\n",
       " '__version__': '1.0',\n",
       " '__globals__': [],\n",
       " 'trueLabel': array([[2, 2, 2, ..., 6, 6, 6]], dtype=uint8)}"
      ]
     },
     "execution_count": 4,
     "metadata": {},
     "output_type": "execute_result"
    }
   ],
   "source": [
    "lab"
   ]
  },
  {
   "cell_type": "markdown",
   "metadata": {},
   "source": [
    "The data is in the form of dictonary so get the value of ```data```"
   ]
  },
  {
   "cell_type": "code",
   "execution_count": 5,
   "metadata": {},
   "outputs": [],
   "source": [
    "data = data['data'].T # get data and transpose\n",
    "label = lab['trueLabel'][0]"
   ]
  },
  {
   "cell_type": "code",
   "execution_count": 6,
   "metadata": {},
   "outputs": [
    {
     "data": {
      "text/plain": [
       "array([[0., 0., 0., ..., 0., 0., 0.],\n",
       "       [0., 0., 0., ..., 0., 0., 0.],\n",
       "       [0., 0., 0., ..., 0., 0., 0.],\n",
       "       ...,\n",
       "       [0., 0., 0., ..., 0., 0., 0.],\n",
       "       [0., 0., 0., ..., 0., 0., 0.],\n",
       "       [0., 0., 0., ..., 0., 0., 0.]])"
      ]
     },
     "execution_count": 6,
     "metadata": {},
     "output_type": "execute_result"
    }
   ],
   "source": [
    "data"
   ]
  },
  {
   "cell_type": "markdown",
   "metadata": {},
   "source": [
    "We have data as the matrix "
   ]
  },
  {
   "cell_type": "markdown",
   "metadata": {},
   "source": [
    "# Q.1 Plotting Images"
   ]
  },
  {
   "cell_type": "code",
   "execution_count": 9,
   "metadata": {},
   "outputs": [
    {
     "data": {
      "image/png": "[encoded data removed]",
      "text/plain": [
       "<Figure size 432x288 with 2 Axes>"
      ]
     },
     "metadata": {
      "needs_background": "light"
     },
     "output_type": "display_data"
    }
   ],
   "source": [
    "ex_2 = np.flip(np.rot90(data[0,:].reshape(28,28), -1), 1) # Reverse the order of elements in an array along the given axis\n",
    "ex_6 = np.flip(np.rot90(data[-1,:].reshape(28,28), -1), 1) # just like changing RBG to BGR\n",
    "# Reshape the images to convert it to 28*28 pixel image\n",
    "\n",
    "\n",
    "plt.subplot(1, 2, 1) # subplot to plot the image in a single pyplot\n",
    "plt.title(\"Two\") # set title\n",
    "plt.imshow(ex_2)\n",
    "plt.axis(\"off\") # hide the axis\n",
    "\n",
    "plt.subplot(1, 2, 2)\n",
    "plt.title(\"Six\")\n",
    "plt.imshow(ex_6)\n",
    "plt.axis(\"off\")\n",
    "plt.show() # show the images"
   ]
  },
  {
   "cell_type": "markdown",
   "metadata": {},
   "source": [
    "# Q.2 Plotting Log Liklihood"
   ]
  },
  {
   "cell_type": "code",
   "execution_count": 10,
   "metadata": {},
   "outputs": [],
   "source": [
    "def initialization(X, K):\n",
    "    m,n=X.shape\n",
    "    pis = np.array([.5,.5])\n",
    "    idx = np.random.randint(n, size=n)\n",
    "    mus = np.zeros(shape=(K,n))\n",
    "    for k in range(K):\n",
    "        idx = np.random.randint(m, size=int(m/K))\n",
    "        x = X[idx]\n",
    "        mu = x.mean(axis=0)\n",
    "        mus[k] = mu\n",
    "    sigmas = np.array([np.identity(n)]*K)\n",
    "    return pis, mus, sigmas\n",
    "\n",
    "def get_n(x,sigma,mu, r=35):\n",
    "    U, S, V = np.linalg.svd(sigma, \n",
    "      full_matrices=False,\n",
    "      compute_uv=True)\n",
    "    lambd = S[:r]\n",
    "    U = U[:,:r]\n",
    "    mu_approx = np.dot(U.T,mu)\n",
    "    x_approx = np.dot(U.T, x)\n",
    "    det = np.prod(lambd)\n",
    "    xm = x_approx - mu_approx\n",
    "    exponent = np.exp(-.5*np.dot(np.dot(xm.T,np.diag(lambd**-1)), xm))\n",
    "    ll = np.log(exponent) + np.log(np.sqrt(det))\n",
    "    n = exponent/np.sqrt(det)\n",
    "    return n, ll\n",
    "\n",
    "def get_mus(X,expectations):\n",
    "    n,m=X.shape\n",
    "    K = expectations.shape[1]\n",
    "    mus = np.zeros(shape=(K,m))\n",
    "    for k in range(K):\n",
    "        tau = expectations[:,k]\n",
    "        numerator = np.zeros(shape=(m))\n",
    "        for i in range(n):\n",
    "            x_i=X[i,:]\n",
    "            tau_i = tau[i]\n",
    "            numerator += tau_i * x_i\n",
    "        mu = numerator / np.sum(tau)\n",
    "        mus[k] = mu\n",
    "    return mus\n",
    "\n",
    "def get_sigmas(X,expectations,mus):\n",
    "    n,m=X.shape\n",
    "    K = expectations.shape[1]\n",
    "    sigmas = np.zeros((K, m, m))\n",
    "    for k in range(K):\n",
    "        tau = expectations[:,k]\n",
    "        mu = mus[k,:]\n",
    "        numerator = np.zeros(shape=(m,m))\n",
    "        for i in range(n):\n",
    "            x_i=X[i,:]\n",
    "            tau_i = tau[i]\n",
    "            x_i_minus_mu = (x_i - mu).reshape(m,1)\n",
    "            numerator += tau_i*np.dot(x_i_minus_mu,x_i_minus_mu.T)\n",
    "        sigmas[k] = numerator / np.sum(tau)\n",
    "            \n",
    "    return sigmas"
   ]
  },
  {
   "cell_type": "code",
   "execution_count": 11,
   "metadata": {},
   "outputs": [],
   "source": [
    "X= data[:,:]\n",
    "K = 2\n",
    "pis, mus, sigmas = initialization(X, K)"
   ]
  },
  {
   "cell_type": "code",
   "execution_count": null,
   "metadata": {},
   "outputs": [
    {
     "name": "stdout",
     "output_type": "stream",
     "text": [
      "0\n",
      "-1.264083044982699\n",
      "1\n",
      "-165282.39922740596\n",
      "2\n"
     ]
    }
   ],
   "source": [
    "max_iter=25\n",
    "m,n = X.shape\n",
    "log_likelihoods = []\n",
    "mus_list = []\n",
    "for z in range(max_iter):\n",
    "    print(z)\n",
    "    N = np.zeros(shape=(m, K))\n",
    "    taus = np.zeros(shape=(m, K))\n",
    "    k = 0\n",
    "    log_likelihood = 0\n",
    "    # expecatation part\n",
    "    for pi, mu, sigma in zip(pis,mus, sigmas):\n",
    "        en = np.apply_along_axis(get_n, 1, X, sigma, mu, r=50)\n",
    "        N[:,k] = en[:,0]\n",
    "        k+=1\n",
    "        log_likelihood += np.sum(en[:,1])\n",
    "    log_likelihoods.append(log_likelihood)\n",
    "    print(log_likelihood)\n",
    "    n_sum = N.sum(axis = 1)\n",
    "    taus = N*pis / n_sum.reshape(m,1)\n",
    "    # maximization part\n",
    "    pis = taus.sum(axis=0)/m\n",
    "    mus_list.append(mus)\n",
    "    mus = get_mus(X,taus)\n",
    "    sigmas = get_sigmas(X,taus,mus)"
   ]
  },
  {
   "cell_type": "code",
   "execution_count": null,
   "metadata": {},
   "outputs": [],
   "source": [
    "pis"
   ]
  },
  {
   "cell_type": "code",
   "execution_count": null,
   "metadata": {},
   "outputs": [],
   "source": [
    "examples = [(\"2\",mus_list[1]), (\"7\", mus_list[6]),(\"8\",mus_list[7]),(\"9\", mus_list[8]),(str(len(mus_list)),mus_list[-1])]\n",
    "\n",
    "\n",
    "for mus_ in examples:\n",
    "    title, mus = mus_\n",
    "    t1 = np.flip(np.rot90(mus[0,:].reshape(28,28), -1), 1)\n",
    "    t2 = np.flip(np.rot90(mus[1,:].reshape(28,28), -1), 1)\n",
    "    plt.subplot(1, 2, 1)\n",
    "    plt.title(\"Iteration: {}\".format(title))\n",
    "    plt.imshow(t1)\n",
    "    plt.axis(\"off\")\n",
    "\n",
    "    plt.subplot(1, 2, 2)\n",
    "    plt.title(\"Iteration: {}\".format(title))\n",
    "    plt.imshow(t2)\n",
    "    plt.axis(\"off\")\n",
    "    plt.show()"
   ]
  },
  {
   "cell_type": "code",
   "execution_count": null,
   "metadata": {},
   "outputs": [],
   "source": [
    "import seaborn as sns; sns.set()\n",
    "import pandas as pd\n",
    "ax = sns.lineplot(data=pd.Series(log_likelihoods))"
   ]
  }
 ],
 "metadata": {
  "kernelspec": {
   "display_name": "Python 3",
   "language": "python",
   "name": "python3"
  },
  "language_info": {
   "codemirror_mode": {
    "name": "ipython",
    "version": 3
   },
   "file_extension": ".py",
   "mimetype": "text/x-python",
   "name": "python",
   "nbconvert_exporter": "python",
   "pygments_lexer": "ipython3",
   "version": "3.7.4"
  }
 },
 "nbformat": 4,
 "nbformat_minor": 4
}
